{
 "cells": [
  {
   "cell_type": "markdown",
   "metadata": {},
   "source": [
    "### Research Question: What are the key factors influencing real estate prices in the USA and how can they be used to accurately predict prices?"
   ]
  },
  {
   "cell_type": "markdown",
   "metadata": {},
   "source": [
    "# Assessing & Handling Missing Data"
   ]
  },
  {
   "cell_type": "code",
   "execution_count": 1,
   "metadata": {},
   "outputs": [
    {
     "data": {
      "text/html": [
       "<div>\n",
       "<style scoped>\n",
       "    .dataframe tbody tr th:only-of-type {\n",
       "        vertical-align: middle;\n",
       "    }\n",
       "\n",
       "    .dataframe tbody tr th {\n",
       "        vertical-align: top;\n",
       "    }\n",
       "\n",
       "    .dataframe thead th {\n",
       "        text-align: right;\n",
       "    }\n",
       "</style>\n",
       "<table border=\"1\" class=\"dataframe\">\n",
       "  <thead>\n",
       "    <tr style=\"text-align: right;\">\n",
       "      <th></th>\n",
       "      <th>status</th>\n",
       "      <th>bed</th>\n",
       "      <th>bath</th>\n",
       "      <th>acre_lot</th>\n",
       "      <th>city</th>\n",
       "      <th>state</th>\n",
       "      <th>zip_code</th>\n",
       "      <th>house_size</th>\n",
       "      <th>prev_sold_date</th>\n",
       "      <th>price</th>\n",
       "    </tr>\n",
       "  </thead>\n",
       "  <tbody>\n",
       "    <tr>\n",
       "      <th>0</th>\n",
       "      <td>for_sale</td>\n",
       "      <td>3.0</td>\n",
       "      <td>2.0</td>\n",
       "      <td>0.12</td>\n",
       "      <td>Adjuntas</td>\n",
       "      <td>Puerto Rico</td>\n",
       "      <td>601.0</td>\n",
       "      <td>920.0</td>\n",
       "      <td>NaN</td>\n",
       "      <td>105000.0</td>\n",
       "    </tr>\n",
       "    <tr>\n",
       "      <th>1</th>\n",
       "      <td>for_sale</td>\n",
       "      <td>4.0</td>\n",
       "      <td>2.0</td>\n",
       "      <td>0.08</td>\n",
       "      <td>Adjuntas</td>\n",
       "      <td>Puerto Rico</td>\n",
       "      <td>601.0</td>\n",
       "      <td>1527.0</td>\n",
       "      <td>NaN</td>\n",
       "      <td>80000.0</td>\n",
       "    </tr>\n",
       "    <tr>\n",
       "      <th>2</th>\n",
       "      <td>for_sale</td>\n",
       "      <td>2.0</td>\n",
       "      <td>1.0</td>\n",
       "      <td>0.15</td>\n",
       "      <td>Juana Diaz</td>\n",
       "      <td>Puerto Rico</td>\n",
       "      <td>795.0</td>\n",
       "      <td>748.0</td>\n",
       "      <td>NaN</td>\n",
       "      <td>67000.0</td>\n",
       "    </tr>\n",
       "    <tr>\n",
       "      <th>3</th>\n",
       "      <td>for_sale</td>\n",
       "      <td>4.0</td>\n",
       "      <td>2.0</td>\n",
       "      <td>0.10</td>\n",
       "      <td>Ponce</td>\n",
       "      <td>Puerto Rico</td>\n",
       "      <td>731.0</td>\n",
       "      <td>1800.0</td>\n",
       "      <td>NaN</td>\n",
       "      <td>145000.0</td>\n",
       "    </tr>\n",
       "    <tr>\n",
       "      <th>4</th>\n",
       "      <td>for_sale</td>\n",
       "      <td>6.0</td>\n",
       "      <td>2.0</td>\n",
       "      <td>0.05</td>\n",
       "      <td>Mayaguez</td>\n",
       "      <td>Puerto Rico</td>\n",
       "      <td>680.0</td>\n",
       "      <td>NaN</td>\n",
       "      <td>NaN</td>\n",
       "      <td>65000.0</td>\n",
       "    </tr>\n",
       "  </tbody>\n",
       "</table>\n",
       "</div>"
      ],
      "text/plain": [
       "     status  bed  bath  acre_lot        city        state  zip_code  \\\n",
       "0  for_sale  3.0   2.0      0.12    Adjuntas  Puerto Rico     601.0   \n",
       "1  for_sale  4.0   2.0      0.08    Adjuntas  Puerto Rico     601.0   \n",
       "2  for_sale  2.0   1.0      0.15  Juana Diaz  Puerto Rico     795.0   \n",
       "3  for_sale  4.0   2.0      0.10       Ponce  Puerto Rico     731.0   \n",
       "4  for_sale  6.0   2.0      0.05    Mayaguez  Puerto Rico     680.0   \n",
       "\n",
       "   house_size prev_sold_date     price  \n",
       "0       920.0            NaN  105000.0  \n",
       "1      1527.0            NaN   80000.0  \n",
       "2       748.0            NaN   67000.0  \n",
       "3      1800.0            NaN  145000.0  \n",
       "4         NaN            NaN   65000.0  "
      ]
     },
     "execution_count": 1,
     "metadata": {},
     "output_type": "execute_result"
    }
   ],
   "source": [
    "import pandas as pd\n",
    "\n",
    "df = pd.read_csv('realtor-data.csv')\n",
    "\n",
    "df.head()"
   ]
  },
  {
   "cell_type": "markdown",
   "metadata": {},
   "source": [
    "Check for missing values"
   ]
  },
  {
   "cell_type": "code",
   "execution_count": 2,
   "metadata": {},
   "outputs": [
    {
     "name": "stdout",
     "output_type": "stream",
     "text": [
      "status             0.000000\n",
      "bed               15.454518\n",
      "bath              13.861802\n",
      "acre_lot          25.513930\n",
      "city               0.013632\n",
      "state              0.000000\n",
      "zip_code           0.034188\n",
      "house_size        32.126395\n",
      "prev_sold_date    48.983631\n",
      "price              0.007708\n",
      "dtype: float64\n"
     ]
    }
   ],
   "source": [
    "missing_values = df.isnull().sum()\n",
    "print(missing_values / len(df)*100)"
   ]
  },
  {
   "cell_type": "markdown",
   "metadata": {},
   "source": [
    "Given the size of the dataset(1.4 million entries) entries with missing data will be removed. Imputation of critical features such as bed, bath, and house size might introduce bias or inaccuracies. Data integrity is better preserved by removal. Previous sold date will be dropped entirely as it is not a feature of the house and not critical to analysis."
   ]
  },
  {
   "cell_type": "code",
   "execution_count": 3,
   "metadata": {},
   "outputs": [],
   "source": [
    "#number of entries before drop\n",
    "old_num_entries = df.shape[0]\n",
    "#drop prev sold date column\n",
    "df = df.drop(['prev_sold_date'],axis=1)\n",
    "#drop rows with any value missing\n",
    "df = df.dropna()\n",
    "\n",
    "new_num_entries = df.shape[0]\n"
   ]
  },
  {
   "cell_type": "code",
   "execution_count": 4,
   "metadata": {},
   "outputs": [
    {
     "name": "stdout",
     "output_type": "stream",
     "text": [
      "720602 rows dropped. Leaving 48.57% of data.\n"
     ]
    }
   ],
   "source": [
    "total_dropped = [old_num_entries-new_num_entries, new_num_entries/old_num_entries]\n",
    "\n",
    "print(f\"{total_dropped[0]} rows dropped. Leaving {total_dropped[1]*100:.2f}% of data.\")"
   ]
  },
  {
   "cell_type": "markdown",
   "metadata": {},
   "source": [
    "Appoximately half the data dropped but given the size of the dataset, there is still a substantial amount of data to ensure a robust analysis."
   ]
  },
  {
   "cell_type": "markdown",
   "metadata": {},
   "source": [
    "# Exploratory Data Analysis"
   ]
  },
  {
   "cell_type": "code",
   "execution_count": 5,
   "metadata": {},
   "outputs": [],
   "source": [
    "import matplotlib.pyplot as plt\n",
    "import seaborn as sns"
   ]
  },
  {
   "cell_type": "code",
   "execution_count": 6,
   "metadata": {},
   "outputs": [
    {
     "data": {
      "text/html": [
       "<div>\n",
       "<style scoped>\n",
       "    .dataframe tbody tr th:only-of-type {\n",
       "        vertical-align: middle;\n",
       "    }\n",
       "\n",
       "    .dataframe tbody tr th {\n",
       "        vertical-align: top;\n",
       "    }\n",
       "\n",
       "    .dataframe thead th {\n",
       "        text-align: right;\n",
       "    }\n",
       "</style>\n",
       "<table border=\"1\" class=\"dataframe\">\n",
       "  <thead>\n",
       "    <tr style=\"text-align: right;\">\n",
       "      <th></th>\n",
       "      <th>bed</th>\n",
       "      <th>bath</th>\n",
       "      <th>acre_lot</th>\n",
       "      <th>zip_code</th>\n",
       "      <th>house_size</th>\n",
       "      <th>price</th>\n",
       "    </tr>\n",
       "  </thead>\n",
       "  <tbody>\n",
       "    <tr>\n",
       "      <th>count</th>\n",
       "      <td>680464.000000</td>\n",
       "      <td>680464.000000</td>\n",
       "      <td>680464.000000</td>\n",
       "      <td>680464.000000</td>\n",
       "      <td>6.804640e+05</td>\n",
       "      <td>6.804640e+05</td>\n",
       "    </tr>\n",
       "    <tr>\n",
       "      <th>mean</th>\n",
       "      <td>3.788956</td>\n",
       "      <td>2.668498</td>\n",
       "      <td>35.394786</td>\n",
       "      <td>8228.550107</td>\n",
       "      <td>2.396661e+03</td>\n",
       "      <td>7.417357e+05</td>\n",
       "    </tr>\n",
       "    <tr>\n",
       "      <th>std</th>\n",
       "      <td>2.045182</td>\n",
       "      <td>2.031717</td>\n",
       "      <td>1315.912278</td>\n",
       "      <td>4539.135940</td>\n",
       "      <td>3.849113e+03</td>\n",
       "      <td>1.545217e+06</td>\n",
       "    </tr>\n",
       "    <tr>\n",
       "      <th>min</th>\n",
       "      <td>1.000000</td>\n",
       "      <td>1.000000</td>\n",
       "      <td>0.000000</td>\n",
       "      <td>601.000000</td>\n",
       "      <td>1.220000e+02</td>\n",
       "      <td>1.000000e+00</td>\n",
       "    </tr>\n",
       "    <tr>\n",
       "      <th>25%</th>\n",
       "      <td>3.000000</td>\n",
       "      <td>2.000000</td>\n",
       "      <td>0.120000</td>\n",
       "      <td>3907.000000</td>\n",
       "      <td>1.352000e+03</td>\n",
       "      <td>2.499000e+05</td>\n",
       "    </tr>\n",
       "    <tr>\n",
       "      <th>50%</th>\n",
       "      <td>3.000000</td>\n",
       "      <td>2.000000</td>\n",
       "      <td>0.290000</td>\n",
       "      <td>8360.000000</td>\n",
       "      <td>1.894000e+03</td>\n",
       "      <td>4.290000e+05</td>\n",
       "    </tr>\n",
       "    <tr>\n",
       "      <th>75%</th>\n",
       "      <td>4.000000</td>\n",
       "      <td>3.000000</td>\n",
       "      <td>1.000000</td>\n",
       "      <td>12168.000000</td>\n",
       "      <td>2.718000e+03</td>\n",
       "      <td>7.490000e+05</td>\n",
       "    </tr>\n",
       "    <tr>\n",
       "      <th>max</th>\n",
       "      <td>99.000000</td>\n",
       "      <td>198.000000</td>\n",
       "      <td>100000.000000</td>\n",
       "      <td>95652.000000</td>\n",
       "      <td>1.450112e+06</td>\n",
       "      <td>1.690000e+08</td>\n",
       "    </tr>\n",
       "  </tbody>\n",
       "</table>\n",
       "</div>"
      ],
      "text/plain": [
       "                 bed           bath       acre_lot       zip_code  \\\n",
       "count  680464.000000  680464.000000  680464.000000  680464.000000   \n",
       "mean        3.788956       2.668498      35.394786    8228.550107   \n",
       "std         2.045182       2.031717    1315.912278    4539.135940   \n",
       "min         1.000000       1.000000       0.000000     601.000000   \n",
       "25%         3.000000       2.000000       0.120000    3907.000000   \n",
       "50%         3.000000       2.000000       0.290000    8360.000000   \n",
       "75%         4.000000       3.000000       1.000000   12168.000000   \n",
       "max        99.000000     198.000000  100000.000000   95652.000000   \n",
       "\n",
       "         house_size         price  \n",
       "count  6.804640e+05  6.804640e+05  \n",
       "mean   2.396661e+03  7.417357e+05  \n",
       "std    3.849113e+03  1.545217e+06  \n",
       "min    1.220000e+02  1.000000e+00  \n",
       "25%    1.352000e+03  2.499000e+05  \n",
       "50%    1.894000e+03  4.290000e+05  \n",
       "75%    2.718000e+03  7.490000e+05  \n",
       "max    1.450112e+06  1.690000e+08  "
      ]
     },
     "execution_count": 6,
     "metadata": {},
     "output_type": "execute_result"
    }
   ],
   "source": [
    "df.describe()\n"
   ]
  },
  {
   "cell_type": "markdown",
   "metadata": {},
   "source": [
    "The maximum for bed, bath, acre_lot, price, and house_size appear to be significantly above the other percentiles. A box plot can better show the distribution."
   ]
  },
  {
   "cell_type": "code",
   "execution_count": 7,
   "metadata": {},
   "outputs": [
    {
     "data": {
      "image/png": "[encoded data removed]",
      "text/plain": [
       "<Figure size 640x480 with 1 Axes>"
      ]
     },
     "metadata": {},
     "output_type": "display_data"
    },
    {
     "data": {
      "image/png": "[encoded data removed]",
      "text/plain": [
       "<Figure size 640x480 with 1 Axes>"
      ]
     },
     "metadata": {},
     "output_type": "display_data"
    },
    {
     "data": {
      "image/png": "[encoded data removed]",
      "text/plain": [
       "<Figure size 640x480 with 1 Axes>"
      ]
     },
     "metadata": {},
     "output_type": "display_data"
    },
    {
     "data": {
      "image/png": "[encoded data removed]",
      "text/plain": [
       "<Figure size 640x480 with 1 Axes>"
      ]
     },
     "metadata": {},
     "output_type": "display_data"
    },
    {
     "data": {
      "image/png": "[encoded data removed]",
      "text/plain": [
       "<Figure size 640x480 with 1 Axes>"
      ]
     },
     "metadata": {},
     "output_type": "display_data"
    }
   ],
   "source": [
    "df_features = df[['acre_lot', 'bath', 'bed', 'house_size','price']]\n",
    "for feature in df_features:\n",
    "    sns.boxplot(x=df[feature])\n",
    "    plt.title(f'Boxplot of {feature}')\n",
    "    plt.show()"
   ]
  },
  {
   "cell_type": "markdown",
   "metadata": {},
   "source": [
    "Acre lot and bed have entries sporadically leading up to the maximum. House size and bath have large gaps between the data points. Let's use the Interquartile Range to detect outliers and remove outliers."
   ]
  },
  {
   "cell_type": "code",
   "execution_count": 8,
   "metadata": {},
   "outputs": [],
   "source": [
    "Q1 = df_features.quantile(0.25)\n",
    "Q3 = df_features.quantile(0.75)\n",
    "IQR = Q3 - Q1\n",
    "\n",
    "# Identifying outliers\n",
    "outliers = (df_features < (Q1 - 1.5 * IQR)) | (df_features > (Q3 + 1.5 * IQR))\n",
    "\n",
    "# Filtering out outliers\n",
    "df_no_outliers = df[~(outliers).any(axis=1)]"
   ]
  },
  {
   "cell_type": "code",
   "execution_count": 9,
   "metadata": {},
   "outputs": [
    {
     "name": "stdout",
     "output_type": "stream",
     "text": [
      "                 bed           bath       acre_lot       zip_code  \\\n",
      "count  469839.000000  469839.000000  469839.000000  469839.000000   \n",
      "mean        3.295256       2.209823       0.438459    8366.660807   \n",
      "std         0.825179       0.836804       0.488698    4626.332711   \n",
      "min         2.000000       1.000000       0.000000     601.000000   \n",
      "25%         3.000000       2.000000       0.120000    4101.000000   \n",
      "50%         3.000000       2.000000       0.240000    8527.000000   \n",
      "75%         4.000000       3.000000       0.540000   12198.000000   \n",
      "max         5.000000       4.000000       2.320000   95652.000000   \n",
      "\n",
      "          house_size         price  \n",
      "count  469839.000000  4.698390e+05  \n",
      "mean     1814.051279  4.403372e+05  \n",
      "std       718.965681  2.849312e+05  \n",
      "min       122.000000  1.000000e+00  \n",
      "25%      1275.000000  2.290000e+05  \n",
      "50%      1672.000000  3.700000e+05  \n",
      "75%      2207.000000  5.990000e+05  \n",
      "max      4767.000000  1.497000e+06  \n",
      "\n",
      "210625 rows removed.\n"
     ]
    }
   ],
   "source": [
    "print(df_no_outliers.describe())\n",
    "print(f'\\n{new_num_entries-df_no_outliers.shape[0]} rows removed.')"
   ]
  },
  {
   "cell_type": "markdown",
   "metadata": {},
   "source": [
    "210,000 rows were removed with this method but ~470,000 entries remain and the maximums are closer to the rest of the data. "
   ]
  },
  {
   "cell_type": "code",
   "execution_count": 10,
   "metadata": {},
   "outputs": [
    {
     "data": {
      "image/png": "[encoded data removed]",
      "text/plain": [
       "<Figure size 640x480 with 1 Axes>"
      ]
     },
     "metadata": {},
     "output_type": "display_data"
    },
    {
     "data": {
      "image/png": "[encoded data removed]",
      "text/plain": [
       "<Figure size 640x480 with 1 Axes>"
      ]
     },
     "metadata": {},
     "output_type": "display_data"
    },
    {
     "data": {
      "image/png": "[encoded data removed]",
      "text/plain": [
       "<Figure size 640x480 with 1 Axes>"
      ]
     },
     "metadata": {},
     "output_type": "display_data"
    },
    {
     "data": {
      "image/png": "[encoded data removed]",
      "text/plain": [
       "<Figure size 640x480 with 1 Axes>"
      ]
     },
     "metadata": {},
     "output_type": "display_data"
    },
    {
     "data": {
      "image/png": "[encoded data removed]",
      "text/plain": [
       "<Figure size 640x480 with 1 Axes>"
      ]
     },
     "metadata": {},
     "output_type": "display_data"
    }
   ],
   "source": [
    "for feature in df_features:\n",
    "    df_no_outliers[feature].hist()\n",
    "    plt.xlabel(feature)\n",
    "    plt.ylabel('Frequency')\n",
    "    plt.title(f'Distribution of {feature}')\n",
    "    plt.show()"
   ]
  },
  {
   "cell_type": "markdown",
   "metadata": {},
   "source": [
    "Removing the outliers using the IQR shows more realistic feature values that we expect in a home. The outliers may have been luxury or commercial properties but given the extreme values they would have likely skewed the model's accuracy. I have a concern regarding the possible high cardinality of categorical features like zip_code."
   ]
  },
  {
   "cell_type": "code",
   "execution_count": 11,
   "metadata": {},
   "outputs": [
    {
     "name": "stdout",
     "output_type": "stream",
     "text": [
      "<class 'pandas.core.frame.DataFrame'>\n",
      "Index: 469839 entries, 0 to 1401065\n",
      "Data columns (total 9 columns):\n",
      " #   Column      Non-Null Count   Dtype  \n",
      "---  ------      --------------   -----  \n",
      " 0   status      469839 non-null  object \n",
      " 1   bed         469839 non-null  float64\n",
      " 2   bath        469839 non-null  float64\n",
      " 3   acre_lot    469839 non-null  float64\n",
      " 4   city        469839 non-null  object \n",
      " 5   state       469839 non-null  object \n",
      " 6   zip_code    469839 non-null  float64\n",
      " 7   house_size  469839 non-null  float64\n",
      " 8   price       469839 non-null  float64\n",
      "dtypes: float64(6), object(3)\n",
      "memory usage: 35.8+ MB\n",
      "Number of unique zip codes: 3612\n"
     ]
    }
   ],
   "source": [
    "df_no_outliers.info()\n",
    "print(f\"Number of unique zip codes: {len(df_no_outliers['zip_code'].unique())}\")\n",
    "\n"
   ]
  },
  {
   "cell_type": "markdown",
   "metadata": {},
   "source": [
    "Status is irrelevant in the data as they are all the same value. Given the unique number of zipcodes, encoding will significantly increase the dimensional space of the data. As an alternative, we will utilize models such as LightGBM that can handle categorical features without pre-processing."
   ]
  },
  {
   "cell_type": "code",
   "execution_count": 12,
   "metadata": {},
   "outputs": [],
   "source": [
    "df_no_outliers = df_no_outliers.drop(['status'],axis=1)\n",
    "\n",
    "df = df_no_outliers\n"
   ]
  },
  {
   "cell_type": "markdown",
   "metadata": {},
   "source": [
    "# Model Implementation"
   ]
  },
  {
   "cell_type": "code",
   "execution_count": 13,
   "metadata": {},
   "outputs": [
    {
     "name": "stdout",
     "output_type": "stream",
     "text": [
      "Test MSE: 7944379503.702883\n",
      "Test R2: 0.9019145472235667\n"
     ]
    }
   ],
   "source": [
    "import lightgbm as lgb\n",
    "from sklearn.model_selection import train_test_split\n",
    "from sklearn.metrics import mean_squared_error, r2_score, mean_absolute_error\n",
    "\n",
    "#Set categorical features appropiately for model\n",
    "categorical_features = ['state', 'city', 'zip_code']\n",
    "df[categorical_features] = df[categorical_features].astype('category')\n",
    "\n",
    "#Separate features and target\n",
    "X = df.drop(['price'], axis=1)\n",
    "y = df['price']\n",
    "\n",
    "#Split data into training and test sets\n",
    "X_train, X_test, y_train, y_test = train_test_split(X, y, test_size=0.2,random_state=42)\n",
    "\n",
    "#Create LightGBM dataset\n",
    "train_data = lgb.Dataset(X_train, label=y_train, categorical_feature=categorical_features)\n",
    "\n",
    "#Define model parameters\n",
    "params =  {\n",
    "    'objective': 'regression',\n",
    "    'metric': 'mse',\n",
    "    'boosting': 'gbdt',\n",
    "    'verbose': -1\n",
    "}\n",
    "\n",
    "#Train the model\n",
    "gbm = lgb.train(params, train_data, num_boost_round=100)\n",
    "\n",
    "#Predict on test\n",
    "y_pred = gbm.predict(X_test, num_iteration=gbm.best_iteration)\n",
    "\n",
    "#Evaluate model\n",
    "mse = mean_squared_error(y_test, y_pred)\n",
    "r2 = r2_score(y_test, y_pred)\n",
    "\n",
    "print(f'Test MSE: {mse}')\n",
    "print(f'Test R2: {r2}')"
   ]
  },
  {
   "cell_type": "markdown",
   "metadata": {},
   "source": [
    "The coefficient of determination(r2) shows the model fits the data well and 90.1% of the variation of price can be explained by the model's inputs. The Mean Squared Error(MSE) is quite large, this could be due to the large range of values. Let's look at the Root Mean Squared Error(RMSE) to convert it to the same units as the data. Additionally, we will look at the Mean Absolute Error(MAE) as a few very large errors could be skewing MSE. MAE is less sensitive to outliers than MSE."
   ]
  },
  {
   "cell_type": "code",
   "execution_count": 14,
   "metadata": {},
   "outputs": [
    {
     "name": "stdout",
     "output_type": "stream",
     "text": [
      "Test RMSE: 89131.24874982332\n",
      "Test MAE: 60008.69449229439\n"
     ]
    }
   ],
   "source": [
    "import numpy as np\n",
    "\n",
    "#Calculate residuals\n",
    "residuals = y_test - y_pred\n",
    "\n",
    "#Calculate RMSE\n",
    "rmse = np.sqrt(mse)\n",
    "\n",
    "#Calculate MAE\n",
    "mae = mean_absolute_error(y_test, y_pred)\n",
    "\n",
    "print(f'Test RMSE: {rmse}')\n",
    "print(f'Test MAE: {mae}')"
   ]
  },
  {
   "cell_type": "markdown",
   "metadata": {},
   "source": [
    "On average the model appears to be within 60,000 to 89,000 within the predicted and actual price based on the MAE and RMSE respectively. To better understand the model's performance we will look at the residuals."
   ]
  },
  {
   "cell_type": "code",
   "execution_count": 15,
   "metadata": {},
   "outputs": [
    {
     "data": {
      "image/png": "[encoded data removed]",
      "text/plain": [
       "<Figure size 640x480 with 1 Axes>"
      ]
     },
     "metadata": {},
     "output_type": "display_data"
    }
   ],
   "source": [
    "#Scatter plot of residuals\n",
    "plt.scatter(y_pred, residuals)\n",
    "plt.axhline(y=0, color='r', linestyle='--')\n",
    "plt.xlabel('Predicted Values')\n",
    "plt.ylabel('Residuals')\n",
    "plt.title('Residuals vs. Predicted Values')\n",
    "plt.show()"
   ]
  },
  {
   "cell_type": "markdown",
   "metadata": {},
   "source": [
    " The residuals are generally centered around the horizontal line at zero, indicating on average, the model's predictions are unbiased. The plot also exhibits a pattern where the variance of residuals increases as the predicted price increases; Which suggests the model's predictive accuracy varies across the range of predictions and is less precise for higher predicted values. This may be due to potential outliers or a lack of features to capture the full relationship.\n",
    "\n",
    " To further our understanding, we will look at the feature importance for the model."
   ]
  },
  {
   "cell_type": "code",
   "execution_count": 16,
   "metadata": {},
   "outputs": [
    {
     "data": {
      "image/png": "[encoded data removed]",
      "text/plain": [
       "<Figure size 800x700 with 1 Axes>"
      ]
     },
     "metadata": {},
     "output_type": "display_data"
    },
    {
     "data": {
      "image/png": "[encoded data removed]",
      "text/plain": [
       "<Figure size 800x700 with 1 Axes>"
      ]
     },
     "metadata": {},
     "output_type": "display_data"
    }
   ],
   "source": [
    "# Get feature importances\n",
    "importance_split = gbm.feature_importance(importance_type='split')\n",
    "importance_gain = gbm.feature_importance(importance_type='gain')\n",
    "\n",
    "# Get feature names\n",
    "feature_names = gbm.feature_name()\n",
    "\n",
    "# Create a DataFrame for split importance\n",
    "df_feature_importance_split = pd.DataFrame({\n",
    "    'feature_name': feature_names,\n",
    "    'importance': importance_split\n",
    "}).sort_values('importance', ascending=False)\n",
    "\n",
    "# Create a DataFrame for gain importance\n",
    "df_feature_importance_gain = pd.DataFrame({\n",
    "    'feature_name': feature_names,\n",
    "    'importance': importance_gain\n",
    "}).sort_values('importance', ascending=False)\n",
    "\n",
    "# Plotting split importance\n",
    "plt.figure(figsize=(8, 7))\n",
    "sns.barplot(x='importance', y='feature_name', data=df_feature_importance_split.head(15))\n",
    "plt.title('Feature Importance by Split')\n",
    "plt.xlabel('Importance')\n",
    "plt.ylabel('Feature')\n",
    "plt.tight_layout()\n",
    "plt.show()\n",
    "\n",
    "# Plotting gain importance\n",
    "plt.figure(figsize=(8, 7))\n",
    "sns.barplot(x='importance', y='feature_name', data=df_feature_importance_gain.head(15))\n",
    "plt.title('Feature Importance by Gain')\n",
    "plt.xlabel('Importance')\n",
    "plt.ylabel('Feature')\n",
    "plt.tight_layout()\n",
    "plt.show()"
   ]
  },
  {
   "cell_type": "markdown",
   "metadata": {},
   "source": [
    "We can see by the results that zip code and city are the significant factors usage(split) and usefulness(gain) for the model. This could be nuanced information local to that area that is highly relevant to property prices. Given this is the driving factor in the model, we will ensure the model is not overfitting through cross-validation before tuning any parameters."
   ]
  },
  {
   "cell_type": "code",
   "execution_count": 17,
   "metadata": {},
   "outputs": [
    {
     "name": "stdout",
     "output_type": "stream",
     "text": [
      "Average K-Fold Test MSE: 8057427246.596751\n",
      "Average K-Fold Test MAE: 60036.49665372745\n",
      "Average K-Fold Test RMSE: 89762.1629122011\n",
      "Average K-Fold Test R2: 0.9007510770205442\n"
     ]
    }
   ],
   "source": [
    "from sklearn.model_selection import KFold\n",
    "\n",
    "#Initialize K-Fold\n",
    "kf = KFold(n_splits=5, shuffle=True, random_state=42)\n",
    "\n",
    "#Array for results\n",
    "mse_scores = []\n",
    "r2_scores = []\n",
    "mae_scores = []\n",
    "rmse_scores = []\n",
    "\n",
    "#Start K-Fold cross-validation\n",
    "for train_index, val_index in kf.split(X):\n",
    "    X_train, X_val = X.iloc[train_index], X.iloc[val_index]\n",
    "    y_train, y_val = y.iloc[train_index], y.iloc[val_index]\n",
    "\n",
    "    #Create LightGBM dataset for current fold\n",
    "    train_data_fold = lgb.Dataset(X_train, label=y_train, categorical_feature=categorical_features)\n",
    "\n",
    "    #Train model\n",
    "    gbm_fold = lgb.train(params, train_data_fold, num_boost_round=100)\n",
    "\n",
    "    #Predict on validation set\n",
    "    y_pred_fold = gbm_fold.predict(X_val, num_iteration=gbm_fold.best_iteration)\n",
    "\n",
    "    # Evaluate model\n",
    "    mse_fold = mean_squared_error(y_val, y_pred_fold)\n",
    "    mae_fold = mean_absolute_error(y_val, y_pred_fold)\n",
    "    rmse_fold = np.sqrt(mse_fold)  # Calculate RMSE from MSE\n",
    "    r2_fold = r2_score(y_val, y_pred_fold)\n",
    "\n",
    "    # Store results\n",
    "    mse_scores.append(mse_fold)\n",
    "    mae_scores.append(mae_fold)\n",
    "    rmse_scores.append(rmse_fold)\n",
    "    r2_scores.append(r2_fold)\n",
    "\n",
    "# Calculate average scores across all folds\n",
    "average_mse = np.mean(mse_scores)\n",
    "average_mae = np.mean(mae_scores)\n",
    "average_rmse = np.mean(rmse_scores)\n",
    "average_r2 = np.mean(r2_scores)\n",
    "\n",
    "# Print the average scores\n",
    "print(f'Average K-Fold Test MSE: {average_mse}')\n",
    "print(f'Average K-Fold Test MAE: {average_mae}')\n",
    "print(f'Average K-Fold Test RMSE: {average_rmse}')\n",
    "print(f'Average K-Fold Test R2: {average_r2}')"
   ]
  },
  {
   "cell_type": "markdown",
   "metadata": {},
   "source": [
    "The results from cross-validation are almost identical to our original model meaning our model is not overfit. In this case, let's tune the parameters of our model to improve it's performance."
   ]
  },
  {
   "cell_type": "code",
   "execution_count": 41,
   "metadata": {},
   "outputs": [
    {
     "name": "stdout",
     "output_type": "stream",
     "text": [
      "Training until validation scores don't improve for 50 rounds\n",
      "  0%|          | 0/35 [00:00<?, ?trial/s, best loss=?]"
     ]
    },
    {
     "name": "stderr",
     "output_type": "stream",
     "text": [
      "/home/kao/.local/lib/python3.10/site-packages/lightgbm/engine.py:172: UserWarning: Found `num_boost_round` in params. Will use it instead of argument\n",
      "  _log_warning(f\"Found `{alias}` in params. Will use it instead of argument\")\n",
      "\n"
     ]
    },
    {
     "name": "stdout",
     "output_type": "stream",
     "text": [
      "Did not meet early stopping. Best iteration is:       \n",
      "[790]\tvalid_0's l2: 3.53854e+09\n",
      "  3%|▎         | 1/35 [00:17<09:59, 17.62s/trial, best loss: 3538542354.950436]"
     ]
    },
    {
     "name": "stderr",
     "output_type": "stream",
     "text": [
      "/home/kao/.local/lib/python3.10/site-packages/lightgbm/engine.py:172: UserWarning: Found `num_boost_round` in params. Will use it instead of argument\n",
      "  _log_warning(f\"Found `{alias}` in params. Will use it instead of argument\")\n",
      "\n"
     ]
    },
    {
     "name": "stdout",
     "output_type": "stream",
     "text": [
      "Training until validation scores don't improve for 50 rounds                   \n",
      "Did not meet early stopping. Best iteration is:                                \n",
      "[950]\tvalid_0's l2: 1.47504e+09\n",
      "Training until validation scores don't improve for 50 rounds                    \n",
      "  6%|▌         | 2/35 [00:33<09:00, 16.38s/trial, best loss: 1475036043.8093877]"
     ]
    },
    {
     "name": "stderr",
     "output_type": "stream",
     "text": [
      "/home/kao/.local/lib/python3.10/site-packages/lightgbm/engine.py:172: UserWarning: Found `num_boost_round` in params. Will use it instead of argument\n",
      "  _log_warning(f\"Found `{alias}` in params. Will use it instead of argument\")\n",
      "\n"
     ]
    },
    {
     "name": "stdout",
     "output_type": "stream",
     "text": [
      "Did not meet early stopping. Best iteration is:                                 \n",
      "[940]\tvalid_0's l2: 3.30393e+09\n",
      "Training until validation scores don't improve for 50 rounds                    \n",
      "  9%|▊         | 3/35 [01:03<12:06, 22.69s/trial, best loss: 1475036043.8093877]"
     ]
    },
    {
     "name": "stderr",
     "output_type": "stream",
     "text": [
      "/home/kao/.local/lib/python3.10/site-packages/lightgbm/engine.py:172: UserWarning: Found `num_boost_round` in params. Will use it instead of argument\n",
      "  _log_warning(f\"Found `{alias}` in params. Will use it instead of argument\")\n",
      "\n"
     ]
    },
    {
     "name": "stdout",
     "output_type": "stream",
     "text": [
      "Did not meet early stopping. Best iteration is:                                 \n",
      "[760]\tvalid_0's l2: 6.3763e+09\n",
      "Training until validation scores don't improve for 50 rounds                    \n",
      " 11%|█▏        | 4/35 [01:18<10:06, 19.56s/trial, best loss: 1475036043.8093877]"
     ]
    },
    {
     "name": "stderr",
     "output_type": "stream",
     "text": [
      "/home/kao/.local/lib/python3.10/site-packages/lightgbm/engine.py:172: UserWarning: Found `num_boost_round` in params. Will use it instead of argument\n",
      "  _log_warning(f\"Found `{alias}` in params. Will use it instead of argument\")\n",
      "\n"
     ]
    },
    {
     "name": "stdout",
     "output_type": "stream",
     "text": [
      "Did not meet early stopping. Best iteration is:                                 \n",
      "[820]\tvalid_0's l2: 3.55422e+09\n",
      "Training until validation scores don't improve for 50 rounds                    \n",
      " 14%|█▍        | 5/35 [01:36<09:31, 19.04s/trial, best loss: 1475036043.8093877]"
     ]
    },
    {
     "name": "stderr",
     "output_type": "stream",
     "text": [
      "/home/kao/.local/lib/python3.10/site-packages/lightgbm/engine.py:172: UserWarning: Found `num_boost_round` in params. Will use it instead of argument\n",
      "  _log_warning(f\"Found `{alias}` in params. Will use it instead of argument\")\n",
      "\n"
     ]
    },
    {
     "name": "stdout",
     "output_type": "stream",
     "text": [
      "Did not meet early stopping. Best iteration is:                                 \n",
      "[850]\tvalid_0's l2: 4.1898e+09\n",
      "Training until validation scores don't improve for 50 rounds                    \n",
      " 17%|█▋        | 6/35 [01:50<08:24, 17.39s/trial, best loss: 1475036043.8093877]"
     ]
    },
    {
     "name": "stderr",
     "output_type": "stream",
     "text": [
      "/home/kao/.local/lib/python3.10/site-packages/lightgbm/engine.py:172: UserWarning: Found `num_boost_round` in params. Will use it instead of argument\n",
      "  _log_warning(f\"Found `{alias}` in params. Will use it instead of argument\")\n",
      "\n"
     ]
    },
    {
     "name": "stdout",
     "output_type": "stream",
     "text": [
      "Did not meet early stopping. Best iteration is:                                 \n",
      "[660]\tvalid_0's l2: 3.81533e+09\n",
      "Training until validation scores don't improve for 50 rounds                    \n",
      " 20%|██        | 7/35 [02:03<07:25, 15.93s/trial, best loss: 1475036043.8093877]"
     ]
    },
    {
     "name": "stderr",
     "output_type": "stream",
     "text": [
      "/home/kao/.local/lib/python3.10/site-packages/lightgbm/engine.py:172: UserWarning: Found `num_boost_round` in params. Will use it instead of argument\n",
      "  _log_warning(f\"Found `{alias}` in params. Will use it instead of argument\")\n",
      "\n"
     ]
    },
    {
     "name": "stdout",
     "output_type": "stream",
     "text": [
      "Did not meet early stopping. Best iteration is:                                 \n",
      "[650]\tvalid_0's l2: 2.68562e+09\n",
      "Training until validation scores don't improve for 50 rounds                    \n",
      " 23%|██▎       | 8/35 [02:11<05:58, 13.27s/trial, best loss: 1475036043.8093877]"
     ]
    },
    {
     "name": "stderr",
     "output_type": "stream",
     "text": [
      "/home/kao/.local/lib/python3.10/site-packages/lightgbm/engine.py:172: UserWarning: Found `num_boost_round` in params. Will use it instead of argument\n",
      "  _log_warning(f\"Found `{alias}` in params. Will use it instead of argument\")\n",
      "\n"
     ]
    },
    {
     "name": "stdout",
     "output_type": "stream",
     "text": [
      "Did not meet early stopping. Best iteration is:                                 \n",
      "[320]\tvalid_0's l2: 4.33598e+09\n",
      "Training until validation scores don't improve for 50 rounds                    \n",
      " 26%|██▌       | 9/35 [02:14<04:25, 10.22s/trial, best loss: 1475036043.8093877]"
     ]
    },
    {
     "name": "stderr",
     "output_type": "stream",
     "text": [
      "/home/kao/.local/lib/python3.10/site-packages/lightgbm/engine.py:172: UserWarning: Found `num_boost_round` in params. Will use it instead of argument\n",
      "  _log_warning(f\"Found `{alias}` in params. Will use it instead of argument\")\n",
      "\n"
     ]
    },
    {
     "name": "stdout",
     "output_type": "stream",
     "text": [
      "Did not meet early stopping. Best iteration is:                                 \n",
      "[720]\tvalid_0's l2: 4.69058e+09\n",
      "Training until validation scores don't improve for 50 rounds                     \n",
      " 29%|██▊       | 10/35 [02:22<03:58,  9.55s/trial, best loss: 1475036043.8093877]"
     ]
    },
    {
     "name": "stderr",
     "output_type": "stream",
     "text": [
      "/home/kao/.local/lib/python3.10/site-packages/lightgbm/engine.py:172: UserWarning: Found `num_boost_round` in params. Will use it instead of argument\n",
      "  _log_warning(f\"Found `{alias}` in params. Will use it instead of argument\")\n",
      "\n"
     ]
    },
    {
     "name": "stdout",
     "output_type": "stream",
     "text": [
      "Did not meet early stopping. Best iteration is:                                  \n",
      "[590]\tvalid_0's l2: 6.44032e+09\n",
      "Training until validation scores don't improve for 50 rounds                     \n",
      " 31%|███▏      | 11/35 [02:35<04:17, 10.71s/trial, best loss: 1475036043.8093877]"
     ]
    },
    {
     "name": "stderr",
     "output_type": "stream",
     "text": [
      "/home/kao/.local/lib/python3.10/site-packages/lightgbm/engine.py:172: UserWarning: Found `num_boost_round` in params. Will use it instead of argument\n",
      "  _log_warning(f\"Found `{alias}` in params. Will use it instead of argument\")\n",
      "\n"
     ]
    },
    {
     "name": "stdout",
     "output_type": "stream",
     "text": [
      "Did not meet early stopping. Best iteration is:                                  \n",
      "[60]\tvalid_0's l2: 2.70638e+10\n",
      "Training until validation scores don't improve for 50 rounds                     \n",
      " 34%|███▍      | 12/35 [02:37<02:59,  7.82s/trial, best loss: 1475036043.8093877]"
     ]
    },
    {
     "name": "stderr",
     "output_type": "stream",
     "text": [
      "/home/kao/.local/lib/python3.10/site-packages/lightgbm/engine.py:172: UserWarning: Found `num_boost_round` in params. Will use it instead of argument\n",
      "  _log_warning(f\"Found `{alias}` in params. Will use it instead of argument\")\n",
      "\n"
     ]
    },
    {
     "name": "stdout",
     "output_type": "stream",
     "text": [
      "Did not meet early stopping. Best iteration is:                                  \n",
      "[190]\tvalid_0's l2: 1.03159e+10\n",
      "Training until validation scores don't improve for 50 rounds                     \n",
      " 37%|███▋      | 13/35 [02:40<02:20,  6.41s/trial, best loss: 1475036043.8093877]"
     ]
    },
    {
     "name": "stderr",
     "output_type": "stream",
     "text": [
      "/home/kao/.local/lib/python3.10/site-packages/lightgbm/engine.py:172: UserWarning: Found `num_boost_round` in params. Will use it instead of argument\n",
      "  _log_warning(f\"Found `{alias}` in params. Will use it instead of argument\")\n",
      "\n"
     ]
    },
    {
     "name": "stdout",
     "output_type": "stream",
     "text": [
      "Did not meet early stopping. Best iteration is:                                  \n",
      "[300]\tvalid_0's l2: 3.87416e+09\n",
      "Training until validation scores don't improve for 50 rounds                     \n",
      " 40%|████      | 14/35 [02:43<01:51,  5.33s/trial, best loss: 1475036043.8093877]"
     ]
    },
    {
     "name": "stderr",
     "output_type": "stream",
     "text": [
      "/home/kao/.local/lib/python3.10/site-packages/lightgbm/engine.py:172: UserWarning: Found `num_boost_round` in params. Will use it instead of argument\n",
      "  _log_warning(f\"Found `{alias}` in params. Will use it instead of argument\")\n",
      "\n"
     ]
    },
    {
     "name": "stdout",
     "output_type": "stream",
     "text": [
      "Did not meet early stopping. Best iteration is:                                  \n",
      "[240]\tvalid_0's l2: 4.7133e+09\n",
      "Training until validation scores don't improve for 50 rounds                     \n",
      " 43%|████▎     | 15/35 [02:46<01:34,  4.72s/trial, best loss: 1475036043.8093877]"
     ]
    },
    {
     "name": "stderr",
     "output_type": "stream",
     "text": [
      "/home/kao/.local/lib/python3.10/site-packages/lightgbm/engine.py:172: UserWarning: Found `num_boost_round` in params. Will use it instead of argument\n",
      "  _log_warning(f\"Found `{alias}` in params. Will use it instead of argument\")\n",
      "\n"
     ]
    },
    {
     "name": "stdout",
     "output_type": "stream",
     "text": [
      "Did not meet early stopping. Best iteration is:                                  \n",
      "[610]\tvalid_0's l2: 3.59926e+09\n",
      "Training until validation scores don't improve for 50 rounds                     \n",
      " 46%|████▌     | 16/35 [02:52<01:39,  5.25s/trial, best loss: 1475036043.8093877]"
     ]
    },
    {
     "name": "stderr",
     "output_type": "stream",
     "text": [
      "/home/kao/.local/lib/python3.10/site-packages/lightgbm/engine.py:172: UserWarning: Found `num_boost_round` in params. Will use it instead of argument\n",
      "  _log_warning(f\"Found `{alias}` in params. Will use it instead of argument\")\n",
      "\n"
     ]
    },
    {
     "name": "stdout",
     "output_type": "stream",
     "text": [
      "Did not meet early stopping. Best iteration is:                                  \n",
      "[170]\tvalid_0's l2: 4.67074e+09\n",
      "Training until validation scores don't improve for 50 rounds                     \n",
      " 49%|████▊     | 17/35 [02:55<01:18,  4.37s/trial, best loss: 1475036043.8093877]"
     ]
    },
    {
     "name": "stderr",
     "output_type": "stream",
     "text": [
      "/home/kao/.local/lib/python3.10/site-packages/lightgbm/engine.py:172: UserWarning: Found `num_boost_round` in params. Will use it instead of argument\n",
      "  _log_warning(f\"Found `{alias}` in params. Will use it instead of argument\")\n",
      "\n"
     ]
    },
    {
     "name": "stdout",
     "output_type": "stream",
     "text": [
      "Did not meet early stopping. Best iteration is:                                  \n",
      "[370]\tvalid_0's l2: 4.43051e+09\n",
      "Training until validation scores don't improve for 50 rounds                     \n",
      " 51%|█████▏    | 18/35 [02:59<01:12,  4.25s/trial, best loss: 1475036043.8093877]"
     ]
    },
    {
     "name": "stderr",
     "output_type": "stream",
     "text": [
      "/home/kao/.local/lib/python3.10/site-packages/lightgbm/engine.py:172: UserWarning: Found `num_boost_round` in params. Will use it instead of argument\n",
      "  _log_warning(f\"Found `{alias}` in params. Will use it instead of argument\")\n",
      "\n"
     ]
    },
    {
     "name": "stdout",
     "output_type": "stream",
     "text": [
      "Did not meet early stopping. Best iteration is:                                  \n",
      "[360]\tvalid_0's l2: 4.7388e+09\n",
      "Training until validation scores don't improve for 50 rounds                     \n",
      " 54%|█████▍    | 19/35 [03:04<01:13,  4.61s/trial, best loss: 1475036043.8093877]"
     ]
    },
    {
     "name": "stderr",
     "output_type": "stream",
     "text": [
      "/home/kao/.local/lib/python3.10/site-packages/lightgbm/engine.py:172: UserWarning: Found `num_boost_round` in params. Will use it instead of argument\n",
      "  _log_warning(f\"Found `{alias}` in params. Will use it instead of argument\")\n",
      "\n"
     ]
    },
    {
     "name": "stdout",
     "output_type": "stream",
     "text": [
      "Did not meet early stopping. Best iteration is:                                  \n",
      "[600]\tvalid_0's l2: 4.38632e+09\n",
      "Training until validation scores don't improve for 50 rounds                     \n",
      " 57%|█████▋    | 20/35 [03:45<03:51, 15.41s/trial, best loss: 1475036043.8093877]"
     ]
    },
    {
     "name": "stderr",
     "output_type": "stream",
     "text": [
      "/home/kao/.local/lib/python3.10/site-packages/lightgbm/engine.py:172: UserWarning: Found `num_boost_round` in params. Will use it instead of argument\n",
      "  _log_warning(f\"Found `{alias}` in params. Will use it instead of argument\")\n",
      "\n"
     ]
    },
    {
     "name": "stdout",
     "output_type": "stream",
     "text": [
      "Did not meet early stopping. Best iteration is:                                  \n",
      "[470]\tvalid_0's l2: 3.59929e+09\n",
      "Training until validation scores don't improve for 50 rounds                     \n",
      " 60%|██████    | 21/35 [03:53<03:03, 13.12s/trial, best loss: 1475036043.8093877]"
     ]
    },
    {
     "name": "stderr",
     "output_type": "stream",
     "text": [
      "/home/kao/.local/lib/python3.10/site-packages/lightgbm/engine.py:172: UserWarning: Found `num_boost_round` in params. Will use it instead of argument\n",
      "  _log_warning(f\"Found `{alias}` in params. Will use it instead of argument\")\n",
      "\n"
     ]
    },
    {
     "name": "stdout",
     "output_type": "stream",
     "text": [
      "Did not meet early stopping. Best iteration is:                                  \n",
      "[990]\tvalid_0's l2: 1.06869e+09\n",
      "Training until validation scores don't improve for 50 rounds                     \n",
      " 63%|██████▎   | 22/35 [04:05<02:47, 12.91s/trial, best loss: 1068686477.6573311]"
     ]
    },
    {
     "name": "stderr",
     "output_type": "stream",
     "text": [
      "/home/kao/.local/lib/python3.10/site-packages/lightgbm/engine.py:172: UserWarning: Found `num_boost_round` in params. Will use it instead of argument\n",
      "  _log_warning(f\"Found `{alias}` in params. Will use it instead of argument\")\n",
      "\n"
     ]
    },
    {
     "name": "stdout",
     "output_type": "stream",
     "text": [
      "Did not meet early stopping. Best iteration is:                                  \n",
      "[990]\tvalid_0's l2: 1.16001e+09\n",
      "Training until validation scores don't improve for 50 rounds                     \n",
      " 66%|██████▌   | 23/35 [04:13<02:19, 11.58s/trial, best loss: 1068686477.6573311]"
     ]
    },
    {
     "name": "stderr",
     "output_type": "stream",
     "text": [
      "/home/kao/.local/lib/python3.10/site-packages/lightgbm/engine.py:172: UserWarning: Found `num_boost_round` in params. Will use it instead of argument\n",
      "  _log_warning(f\"Found `{alias}` in params. Will use it instead of argument\")\n",
      "\n"
     ]
    },
    {
     "name": "stdout",
     "output_type": "stream",
     "text": [
      "Did not meet early stopping. Best iteration is:                                  \n",
      "[970]\tvalid_0's l2: 2.60878e+09\n",
      "Training until validation scores don't improve for 50 rounds                     \n",
      " 69%|██████▊   | 24/35 [04:24<02:02, 11.15s/trial, best loss: 1068686477.6573311]"
     ]
    },
    {
     "name": "stderr",
     "output_type": "stream",
     "text": [
      "/home/kao/.local/lib/python3.10/site-packages/lightgbm/engine.py:172: UserWarning: Found `num_boost_round` in params. Will use it instead of argument\n",
      "  _log_warning(f\"Found `{alias}` in params. Will use it instead of argument\")\n",
      "\n"
     ]
    },
    {
     "name": "stdout",
     "output_type": "stream",
     "text": [
      "Did not meet early stopping. Best iteration is:                                  \n",
      "[890]\tvalid_0's l2: 2.64778e+09\n",
      "Training until validation scores don't improve for 50 rounds                     \n",
      " 71%|███████▏  | 25/35 [04:35<01:53, 11.35s/trial, best loss: 1068686477.6573311]"
     ]
    },
    {
     "name": "stderr",
     "output_type": "stream",
     "text": [
      "/home/kao/.local/lib/python3.10/site-packages/lightgbm/engine.py:172: UserWarning: Found `num_boost_round` in params. Will use it instead of argument\n",
      "  _log_warning(f\"Found `{alias}` in params. Will use it instead of argument\")\n",
      "\n"
     ]
    },
    {
     "name": "stdout",
     "output_type": "stream",
     "text": [
      "Did not meet early stopping. Best iteration is:                                  \n",
      "[490]\tvalid_0's l2: 3.13946e+09\n",
      "Training until validation scores don't improve for 50 rounds                     \n",
      " 74%|███████▍  | 26/35 [04:42<01:30, 10.07s/trial, best loss: 1068686477.6573311]"
     ]
    },
    {
     "name": "stderr",
     "output_type": "stream",
     "text": [
      "/home/kao/.local/lib/python3.10/site-packages/lightgbm/engine.py:172: UserWarning: Found `num_boost_round` in params. Will use it instead of argument\n",
      "  _log_warning(f\"Found `{alias}` in params. Will use it instead of argument\")\n",
      "\n"
     ]
    },
    {
     "name": "stdout",
     "output_type": "stream",
     "text": [
      "Did not meet early stopping. Best iteration is:                                  \n",
      "[980]\tvalid_0's l2: 1.85864e+09\n",
      "Training until validation scores don't improve for 50 rounds                     \n",
      " 77%|███████▋  | 27/35 [04:54<01:24, 10.51s/trial, best loss: 1068686477.6573311]"
     ]
    },
    {
     "name": "stderr",
     "output_type": "stream",
     "text": [
      "/home/kao/.local/lib/python3.10/site-packages/lightgbm/engine.py:172: UserWarning: Found `num_boost_round` in params. Will use it instead of argument\n",
      "  _log_warning(f\"Found `{alias}` in params. Will use it instead of argument\")\n",
      "\n"
     ]
    },
    {
     "name": "stdout",
     "output_type": "stream",
     "text": [
      "Did not meet early stopping. Best iteration is:                                  \n",
      "[880]\tvalid_0's l2: 1.14108e+09\n",
      "Training until validation scores don't improve for 50 rounds                     \n",
      " 80%|████████  | 28/35 [05:04<01:12, 10.31s/trial, best loss: 1068686477.6573311]"
     ]
    },
    {
     "name": "stderr",
     "output_type": "stream",
     "text": [
      "/home/kao/.local/lib/python3.10/site-packages/lightgbm/engine.py:172: UserWarning: Found `num_boost_round` in params. Will use it instead of argument\n",
      "  _log_warning(f\"Found `{alias}` in params. Will use it instead of argument\")\n",
      "\n"
     ]
    },
    {
     "name": "stdout",
     "output_type": "stream",
     "text": [
      "Did not meet early stopping. Best iteration is:                                  \n",
      "[750]\tvalid_0's l2: 1.13021e+09\n",
      "Training until validation scores don't improve for 50 rounds                     \n",
      " 83%|████████▎ | 29/35 [05:15<01:04, 10.70s/trial, best loss: 1068686477.6573311]"
     ]
    },
    {
     "name": "stderr",
     "output_type": "stream",
     "text": [
      "/home/kao/.local/lib/python3.10/site-packages/lightgbm/engine.py:172: UserWarning: Found `num_boost_round` in params. Will use it instead of argument\n",
      "  _log_warning(f\"Found `{alias}` in params. Will use it instead of argument\")\n",
      "\n"
     ]
    },
    {
     "name": "stdout",
     "output_type": "stream",
     "text": [
      "Did not meet early stopping. Best iteration is:                                  \n",
      "[750]\tvalid_0's l2: 2.50368e+09\n",
      "Training until validation scores don't improve for 50 rounds                     \n",
      " 86%|████████▌ | 30/35 [05:27<00:55, 11.03s/trial, best loss: 1068686477.6573311]"
     ]
    },
    {
     "name": "stderr",
     "output_type": "stream",
     "text": [
      "/home/kao/.local/lib/python3.10/site-packages/lightgbm/engine.py:172: UserWarning: Found `num_boost_round` in params. Will use it instead of argument\n",
      "  _log_warning(f\"Found `{alias}` in params. Will use it instead of argument\")\n",
      "\n"
     ]
    },
    {
     "name": "stdout",
     "output_type": "stream",
     "text": [
      "Did not meet early stopping. Best iteration is:                                  \n",
      "[800]\tvalid_0's l2: 1.44557e+09\n",
      "Training until validation scores don't improve for 50 rounds                     \n",
      " 89%|████████▊ | 31/35 [05:37<00:42, 10.68s/trial, best loss: 1068686477.6573311]"
     ]
    },
    {
     "name": "stderr",
     "output_type": "stream",
     "text": [
      "/home/kao/.local/lib/python3.10/site-packages/lightgbm/engine.py:172: UserWarning: Found `num_boost_round` in params. Will use it instead of argument\n",
      "  _log_warning(f\"Found `{alias}` in params. Will use it instead of argument\")\n",
      "\n"
     ]
    },
    {
     "name": "stdout",
     "output_type": "stream",
     "text": [
      "Did not meet early stopping. Best iteration is:                                  \n",
      "[910]\tvalid_0's l2: 2.51786e+09\n",
      "Training until validation scores don't improve for 50 rounds                     \n",
      " 91%|█████████▏| 32/35 [05:53<00:37, 12.33s/trial, best loss: 1068686477.6573311]"
     ]
    },
    {
     "name": "stderr",
     "output_type": "stream",
     "text": [
      "/home/kao/.local/lib/python3.10/site-packages/lightgbm/engine.py:172: UserWarning: Found `num_boost_round` in params. Will use it instead of argument\n",
      "  _log_warning(f\"Found `{alias}` in params. Will use it instead of argument\")\n",
      "\n"
     ]
    },
    {
     "name": "stdout",
     "output_type": "stream",
     "text": [
      "Did not meet early stopping. Best iteration is:                                  \n",
      "[700]\tvalid_0's l2: 1.35322e+09\n",
      "Training until validation scores don't improve for 50 rounds                     \n",
      " 94%|█████████▍| 33/35 [06:00<00:21, 10.67s/trial, best loss: 1068686477.6573311]"
     ]
    },
    {
     "name": "stderr",
     "output_type": "stream",
     "text": [
      "/home/kao/.local/lib/python3.10/site-packages/lightgbm/engine.py:172: UserWarning: Found `num_boost_round` in params. Will use it instead of argument\n",
      "  _log_warning(f\"Found `{alias}` in params. Will use it instead of argument\")\n",
      "\n"
     ]
    },
    {
     "name": "stdout",
     "output_type": "stream",
     "text": [
      "Did not meet early stopping. Best iteration is:                                  \n",
      "[540]\tvalid_0's l2: 2.21856e+09\n",
      "Training until validation scores don't improve for 50 rounds                     \n",
      " 97%|█████████▋| 34/35 [06:06<00:09,  9.36s/trial, best loss: 1068686477.6573311]"
     ]
    },
    {
     "name": "stderr",
     "output_type": "stream",
     "text": [
      "/home/kao/.local/lib/python3.10/site-packages/lightgbm/engine.py:172: UserWarning: Found `num_boost_round` in params. Will use it instead of argument\n",
      "  _log_warning(f\"Found `{alias}` in params. Will use it instead of argument\")\n",
      "\n"
     ]
    },
    {
     "name": "stdout",
     "output_type": "stream",
     "text": [
      "Did not meet early stopping. Best iteration is:                                  \n",
      "[810]\tvalid_0's l2: 1.644e+09\n",
      "100%|██████████| 35/35 [06:14<00:00, 10.70s/trial, best loss: 1068686477.6573311]\n",
      "The best hyperparameters are:  \n",
      "\n",
      "{'learning_rate': 0.1980734319073354, 'num_boost_round': 990.0, 'num_leaves': 120.0}\n"
     ]
    }
   ],
   "source": [
    "from hyperopt import hp, fmin, tpe, Trials, STATUS_OK\n",
    "\n",
    "# Define the space of hyperparameters to search\n",
    "space = {\n",
    "    'learning_rate': hp.loguniform('learning_rate', np.log(0.01), np.log(0.2)),\n",
    "    'num_leaves': hp.quniform('num_leaves', 30, 150, 5),\n",
    "    'num_boost_round': hp.quniform('num_boost_round', 50, 1000, 10),\n",
    "}\n",
    "\n",
    "# Define the objective function\n",
    "def objective(hyperparams):\n",
    "    # Make sure parameters that need to be integers are integers\n",
    "    hyperparams['num_boost_round'] = int(hyperparams['num_boost_round'])\n",
    "    hyperparams['num_leaves'] = int(hyperparams['num_leaves'])\n",
    "\n",
    "    # Train test split for validation\n",
    "    X_train, X_test, y_train, y_test = train_test_split(X, y, test_size=0.2, random_state=42)\n",
    "\n",
    "    dtrain = lgb.Dataset(X_train, label=y_train)\n",
    "    dval = lgb.Dataset(X_test, label=y_test)\n",
    "\n",
    "    # Set up the parameters for LightGBM\n",
    "    params = {\n",
    "        'objective': 'regression',\n",
    "        'metric': 'mse',\n",
    "        'verbose': -1,\n",
    "        **hyperparams\n",
    "    }\n",
    "\n",
    "    # List to store the evaluation results for each iteration\n",
    "    evals_result = {}\n",
    "\n",
    "    # Train the model with the given hyperparameters\n",
    "    model = lgb.train(params,\n",
    "                      dtrain,\n",
    "                      num_boost_round=hyperparams['num_boost_round'],\n",
    "                      valid_sets=[dval],\n",
    "                      callbacks=[lgb.early_stopping(stopping_rounds=50),  # Use callback for early stopping\n",
    "                                 lgb.record_evaluation(evals_result)])\n",
    "\n",
    "    # Predict on validation set\n",
    "    pred = model.predict(X_test, num_iteration=model.best_iteration)\n",
    "\n",
    "    # Calculate the MSE\n",
    "    mse = mean_squared_error(y_test, pred)\n",
    "\n",
    "    # Return the loss and status\n",
    "    return {'loss': mse, 'status': STATUS_OK}\n",
    "\n",
    "# Run the hyperparameter search using the Tree of Parzen Estimators (TPE) algorithm\n",
    "trials = Trials()\n",
    "best = fmin(fn=objective,\n",
    "            space=space,\n",
    "            algo=tpe.suggest,\n",
    "            max_evals=35,\n",
    "            trials=trials)\n",
    "\n",
    "print(\"The best hyperparameters are: \", \"\\n\")\n",
    "print(best)\n"
   ]
  },
  {
   "cell_type": "markdown",
   "metadata": {},
   "source": [
    "The parameters found by Hyperopt are quite aggressive and may be overfitting the data. We will run the model with these parameters and use cross validation along with feature and bagging fractioning; These parameters randomly select a subset of features and data which makes the model more robust and less prone to overfit. Additionally, early stopping rounds will stop the training process if the model's performance does not improve. This also reduces overfitting and learning noise or specific patterns in the training set."
   ]
  },
  {
   "cell_type": "code",
   "execution_count": 19,
   "metadata": {},
   "outputs": [
    {
     "name": "stdout",
     "output_type": "stream",
     "text": [
      "Training until validation scores don't improve for 50 rounds\n",
      "Did not meet early stopping. Best iteration is:\n",
      "[1000]\tvalid_0's l2: 1.03682e+09\n",
      "Training until validation scores don't improve for 50 rounds\n",
      "Did not meet early stopping. Best iteration is:\n",
      "[1000]\tvalid_0's l2: 1.15522e+09\n",
      "Training until validation scores don't improve for 50 rounds\n",
      "Did not meet early stopping. Best iteration is:\n",
      "[1000]\tvalid_0's l2: 1.09426e+09\n",
      "Training until validation scores don't improve for 50 rounds\n",
      "Did not meet early stopping. Best iteration is:\n",
      "[1000]\tvalid_0's l2: 1.09465e+09\n",
      "Training until validation scores don't improve for 50 rounds\n",
      "Did not meet early stopping. Best iteration is:\n",
      "[1000]\tvalid_0's l2: 1.09482e+09\n",
      "Average K-Fold Test MSE: 1095151933.4755065\n",
      "Average K-Fold Test MAE: 15033.377707839303\n",
      "Average K-Fold Test RMSE: 33088.24410301319\n",
      "Average K-Fold Test R2: 0.986510402478468\n"
     ]
    }
   ],
   "source": [
    "# Define model parameters\n",
    "params = {\n",
    "    'objective': 'regression',\n",
    "    'metric': 'mse',\n",
    "    'boosting': 'gbdt',\n",
    "    'num_leaves': 120,\n",
    "    'learning_rate': 0.2,\n",
    "    'feature_fraction': 0.8,\n",
    "    'bagging_fraction': 0.8,\n",
    "    'bagging_freq': 5,\n",
    "    'verbose': -1\n",
    "}\n",
    "\n",
    "# Initialize K-Fold\n",
    "kf = KFold(n_splits=5, shuffle=True, random_state=42)\n",
    "\n",
    "# Arrays for results\n",
    "mse_scores = []\n",
    "r2_scores = []\n",
    "mae_scores = []\n",
    "rmse_scores = []\n",
    "\n",
    "# Start K-Fold cross-validation\n",
    "for train_index, val_index in kf.split(X):\n",
    "    X_train, X_val = X.iloc[train_index], X.iloc[val_index]\n",
    "    y_train, y_val = y.iloc[train_index], y.iloc[val_index]\n",
    "\n",
    "    # Create LightGBM datasets for current fold\n",
    "    train_data_fold = lgb.Dataset(X_train, label=y_train, categorical_feature=categorical_features)\n",
    "    val_data_fold = lgb.Dataset(X_val, label=y_val, categorical_feature=categorical_features)\n",
    "\n",
    "    # Train model with early stopping\n",
    "    gbm_fold = lgb.train(\n",
    "        params, \n",
    "        train_data_fold, \n",
    "        num_boost_round=1000, \n",
    "        valid_sets=[val_data_fold], \n",
    "        callbacks=[lgb.early_stopping(stopping_rounds=50)]\n",
    "    )\n",
    "\n",
    "    # Predict on validation set\n",
    "    y_pred_fold = gbm_fold.predict(X_val, num_iteration=gbm_fold.best_iteration)\n",
    "\n",
    "    # Evaluate model\n",
    "    mse_fold = mean_squared_error(y_val, y_pred_fold)\n",
    "    mae_fold = mean_absolute_error(y_val, y_pred_fold)\n",
    "    rmse_fold = np.sqrt(mse_fold)\n",
    "    r2_fold = r2_score(y_val, y_pred_fold)\n",
    "\n",
    "    # Store results\n",
    "    mse_scores.append(mse_fold)\n",
    "    mae_scores.append(mae_fold)\n",
    "    rmse_scores.append(rmse_fold)\n",
    "    r2_scores.append(r2_fold)\n",
    "\n",
    "# Calculate average scores across all folds\n",
    "average_mse = np.mean(mse_scores)\n",
    "average_mae = np.mean(mae_scores)\n",
    "average_rmse = np.mean(rmse_scores)\n",
    "average_r2 = np.mean(r2_scores)\n",
    "\n",
    "print(f'Average K-Fold Test MSE: {average_mse}')\n",
    "print(f'Average K-Fold Test MAE: {average_mae}')\n",
    "print(f'Average K-Fold Test RMSE: {average_rmse}')\n",
    "print(f'Average K-Fold Test R2: {average_r2}')\n"
   ]
  },
  {
   "cell_type": "markdown",
   "metadata": {},
   "source": [
    "The model's performance with the new parameters is significantly stronger with an R2 of 98.6% and RMSE of 33,000. While unlikely due to the number of entries(~400,000) and features such as zip code with high cardinality(~3,000 unique values); It's possible that the model is too complex for the dataset and still overfit the data. As a final check, let's look at a simpler model such as linear regression to compare performance."
   ]
  },
  {
   "cell_type": "code",
   "execution_count": 23,
   "metadata": {},
   "outputs": [
    {
     "name": "stdout",
     "output_type": "stream",
     "text": [
      "Linear Regression - Average K-Fold Test MSE: 56572545043.550354\n",
      "Linear Regression - Average K-Fold Test MAE: 180410.35577250348\n",
      "Linear Regression - Average K-Fold Test RMSE: 237848.72938582403\n",
      "Linear Regression - Average K-Fold Test R2: 0.30316211108359176\n"
     ]
    }
   ],
   "source": [
    "from sklearn.linear_model import LinearRegression\n",
    "\n",
    "# Initialize K-Fold\n",
    "kf = KFold(n_splits=5, shuffle=True, random_state=42)\n",
    "\n",
    "# Arrays for results\n",
    "lr_mse_scores = []\n",
    "lr_r2_scores = []\n",
    "lr_mae_scores = []\n",
    "lr_rmse_scores = []\n",
    "\n",
    "# Start K-Fold cross-validation\n",
    "for train_index, val_index in kf.split(X):\n",
    "    # Splitting the data\n",
    "    X_train, X_val = X.iloc[train_index].copy(), X.iloc[val_index].copy()\n",
    "    y_train, y_val = y.iloc[train_index], y.iloc[val_index]\n",
    "\n",
    "    # Frequency encoding within each fold\n",
    "    for col in ['zip_code', 'state', 'city']:\n",
    "        # Compute frequencies on training data\n",
    "        freq_encoding = X_train[col].value_counts().to_dict()\n",
    "        \n",
    "        # Apply encoding to both training and validation data\n",
    "        X_train[f'{col}_freq'] = X_train[col].map(freq_encoding)\n",
    "        X_val[f'{col}_freq'] = X_val[col].map(freq_encoding)\n",
    "\n",
    "    # Drop original categorical columns\n",
    "    X_train = X_train.drop(['zip_code', 'state', 'city'], axis=1)\n",
    "    X_val = X_val.drop(['zip_code', 'state', 'city'], axis=1)\n",
    "\n",
    "    # Train Linear Regression model\n",
    "    lr_model = LinearRegression()\n",
    "    lr_model.fit(X_train, y_train)\n",
    "\n",
    "    # Predict on validation set\n",
    "    y_pred_lr = lr_model.predict(X_val)\n",
    "\n",
    "    # Evaluate model\n",
    "    lr_mse = mean_squared_error(y_val, y_pred_lr)\n",
    "    lr_mae = mean_absolute_error(y_val, y_pred_lr)\n",
    "    lr_rmse = np.sqrt(lr_mse)\n",
    "    lr_r2 = r2_score(y_val, y_pred_lr)\n",
    "\n",
    "    # Store results\n",
    "    lr_mse_scores.append(lr_mse)\n",
    "    lr_mae_scores.append(lr_mae)\n",
    "    lr_rmse_scores.append(lr_rmse)\n",
    "    lr_r2_scores.append(lr_r2)\n",
    "\n",
    "# Calculate average scores across all folds\n",
    "average_lr_mse = np.mean(lr_mse_scores)\n",
    "average_lr_mae = np.mean(lr_mae_scores)\n",
    "average_lr_rmse = np.mean(lr_rmse_scores)\n",
    "average_lr_r2 = np.mean(lr_r2_scores)\n",
    "\n",
    "print(f'Linear Regression - Average K-Fold Test MSE: {average_lr_mse}')\n",
    "print(f'Linear Regression - Average K-Fold Test MAE: {average_lr_mae}')\n",
    "print(f'Linear Regression - Average K-Fold Test RMSE: {average_lr_rmse}')\n",
    "print(f'Linear Regression - Average K-Fold Test R2: {average_lr_r2}')\n"
   ]
  },
  {
   "cell_type": "markdown",
   "metadata": {},
   "source": [
    "To avoid data leakage, frequency encoding was done within each fold of cross-validation to ensure that information from the validation set was not leaked to the training set. We can see that the simpler model with Linear Regression performed significantly worse than LightGBM. This suggests the dataset contains complex non-linear relationships that LightGBM can handle more effectively than Linear Regression."
   ]
  },
  {
   "cell_type": "markdown",
   "metadata": {},
   "source": [
    "#### Findings:\n",
    "- The LightGBM model successfully identified crucial factors influencing real estate prices.\n",
    "- The model demonstrated high accuracy with the evaluated metrics.\n",
    "\n",
    "#### Implications:\n",
    "- The model can significantly improve property valuation for real estate companies.\n",
    "- Investors and professionals can levarage the model to understand market trends and make data-driven investment choices."
   ]
  }
 ],
 "metadata": {
  "kernelspec": {
   "display_name": "Python 3",
   "language": "python",
   "name": "python3"
  },
  "language_info": {
   "codemirror_mode": {
    "name": "ipython",
    "version": 3
   },
   "file_extension": ".py",
   "mimetype": "text/x-python",
   "name": "python",
   "nbconvert_exporter": "python",
   "pygments_lexer": "ipython3",
   "version": "3.10.12"
  }
 },
 "nbformat": 4,
 "nbformat_minor": 2
}
